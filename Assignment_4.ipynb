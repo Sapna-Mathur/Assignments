{
 "cells": [
  {
   "cell_type": "markdown",
   "metadata": {},
   "source": [
    "## 1.1 Write a Python Program(with class concepts) to find the area of the triangle using the below formula.\n",
    "### area = (s*(s-a)*(s-b)*(s-c)) ** 0.5\n",
    "### Function to take the length of the sides of triangle from user should be defined in the parent \n",
    "### class and function to calculate the area should be defined in subclass."
   ]
  },
  {
   "cell_type": "code",
   "execution_count": 37,
   "metadata": {},
   "outputs": [
    {
     "name": "stdout",
     "output_type": "stream",
     "text": [
      "Side 1 = 5\n",
      "Side 2 = 6\n",
      "Side 3 = 7\n",
      "Sides are : 5.0 6.0 7.0\n",
      "AREA OF TRIANGLE :  14.70\n"
     ]
    }
   ],
   "source": [
    "class Sides:\n",
    "    shape = 'Triangle'\n",
    "\n",
    "    def __init__(self, s1, s2, s3):\n",
    "        self.s1 = s1\n",
    "        self.s2 = s2\n",
    "        self.s3 = s3\n",
    "\n",
    "    def get_sides(self):\n",
    "        return f\"Sides are : {self.s1} {self.s2} {self.s3}\"\n",
    "\n",
    "\n",
    "class Area(Sides):\n",
    "    def __init__(self, s1, s2, s3):\n",
    "        super().__init__(s1, s2, s3)\n",
    "        self.area = 0\n",
    "\n",
    "    def compute_area(self):\n",
    "        self.s = (self.s1 + self.s2 + self.s3) / 2\n",
    "        self.area = float((self.s * (self.s - self.s1) * (self.s - self.s2) * (self.s - self.s3))) ** 0.5\n",
    "\n",
    "    def get_area(self):\n",
    "        return f\"AREA OF TRIANGLE : {self.area: .2f}\"\n",
    "\n",
    "inp1 = float(input('Side 1 = '))\n",
    "inp2 = float(input('Side 2 = '))\n",
    "inp3 = float(input('Side 3 = '))\n",
    "\n",
    "a1 = Area(inp1, inp2, inp3)\n",
    "print(a1.get_sides())\n",
    "a1.compute_area()\n",
    "print(a1.get_area())"
   ]
  },
  {
   "cell_type": "markdown",
   "metadata": {},
   "source": [
    "## 1.2 Write a function filter_long_words() that takes a list of words and an integer n and returns the list of words that are longer than n."
   ]
  },
  {
   "cell_type": "code",
   "execution_count": 38,
   "metadata": {},
   "outputs": [
    {
     "data": {
      "text/plain": [
       "['Ailurophile', 'Comely', 'Dallianc']"
      ]
     },
     "execution_count": 38,
     "metadata": {},
     "output_type": "execute_result"
    }
   ],
   "source": [
    "def filter_long_words(list_words, n):\n",
    "    list_long_words = list()\n",
    "    for word in list_words:\n",
    "        if len(word) > n:\n",
    "            list_long_words.append(word)\n",
    "\n",
    "    return list_long_words\n",
    "\n",
    "lst = ['Ailurophile', 'Brood', 'Comely', 'Dallianc', 'Lilt', 'Love']\n",
    "filter_long_words(lst, 5)"
   ]
  },
  {
   "cell_type": "markdown",
   "metadata": {},
   "source": [
    "## 2.1 Write a Python program using function concept that maps list of words into a list of integers representing the lengths of the corresponding words.\n",
    "### Hint: If a list [ ab,cde,erty] is passed on to the python function output should come as [2,3,4]\n",
    "### Here 2,3 and 4 are the lengths of the words in the list."
   ]
  },
  {
   "cell_type": "code",
   "execution_count": 34,
   "metadata": {},
   "outputs": [
    {
     "data": {
      "text/plain": [
       "[11, 5, 6, 8, 4, 4]"
      ]
     },
     "execution_count": 34,
     "metadata": {},
     "output_type": "execute_result"
    }
   ],
   "source": [
    "def get_words_length(list_words):\n",
    "    list_words_length = list()\n",
    "    for word in list_words:\n",
    "        list_words_length.append(len(word))\n",
    "\n",
    "    return list_words_length\n",
    "\n",
    "lst = ['Ailurophile', 'Brood', 'Comely', 'Dallianc', 'Lilt', 'Love']\n",
    "get_words_length(lst)"
   ]
  },
  {
   "cell_type": "markdown",
   "metadata": {},
   "source": [
    "## 2.2 Write a Python function which takes a character (i.e. a string of length 1) and returns True if it is a vowel, False otherwise."
   ]
  },
  {
   "cell_type": "code",
   "execution_count": 35,
   "metadata": {},
   "outputs": [
    {
     "data": {
      "text/plain": [
       "False"
      ]
     },
     "execution_count": 35,
     "metadata": {},
     "output_type": "execute_result"
    }
   ],
   "source": [
    "def isvowel(char):\n",
    "\n",
    "    vowels = ['a', 'e', 'i', 'o', 'u', 'A', 'E', 'I', 'O', 'U']\n",
    "    if char in vowels:\n",
    "        return True\n",
    "    \n",
    "    return False\n",
    "\n",
    "isvowel('Z')"
   ]
  },
  {
   "cell_type": "code",
   "execution_count": 36,
   "metadata": {},
   "outputs": [
    {
     "data": {
      "text/plain": [
       "True"
      ]
     },
     "execution_count": 36,
     "metadata": {},
     "output_type": "execute_result"
    }
   ],
   "source": [
    "isvowel('i')"
   ]
  },
  {
   "cell_type": "code",
   "execution_count": null,
   "metadata": {},
   "outputs": [],
   "source": []
  }
 ],
 "metadata": {
  "kernelspec": {
   "display_name": "Python 3",
   "language": "python",
   "name": "python3"
  },
  "language_info": {
   "codemirror_mode": {
    "name": "ipython",
    "version": 3
   },
   "file_extension": ".py",
   "mimetype": "text/x-python",
   "name": "python",
   "nbconvert_exporter": "python",
   "pygments_lexer": "ipython3",
   "version": "3.6.5"
  }
 },
 "nbformat": 4,
 "nbformat_minor": 2
}
