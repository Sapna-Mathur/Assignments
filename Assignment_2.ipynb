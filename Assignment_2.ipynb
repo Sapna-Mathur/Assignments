{
 "cells": [
  {
   "cell_type": "markdown",
   "metadata": {},
   "source": [
    "# ASSIGNMENT-2"
   ]
  },
  {
   "cell_type": "markdown",
   "metadata": {},
   "source": [
    "## 1. Create the below pattern using nested for loop in Python. \n",
    "      \n",
    "      *\n",
    "      * *\n",
    "      * * *\n",
    "      * * * *\n",
    "      * * * * *\n",
    "      * * * *\n",
    "      * * *\n",
    "      * *\n",
    "      *"
   ]
  },
  {
   "cell_type": "code",
   "execution_count": 22,
   "metadata": {},
   "outputs": [
    {
     "name": "stdout",
     "output_type": "stream",
     "text": [
      "* \n",
      "* * \n",
      "* * * \n",
      "* * * * \n",
      "* * * * * \n",
      "* * * * \n",
      "* * * \n",
      "* * \n",
      "* \n"
     ]
    }
   ],
   "source": [
    "#prints upper half pattern.\n",
    "#In this, rows = columns\n",
    "for row in range(1, 5+1):\n",
    "    for column in range(1, row+1):\n",
    "        print('*', end=' ')\n",
    "    print()\n",
    " \n",
    " #prints lower half pattern\n",
    " #In this as no. of row increases ,no. of column decreases  \n",
    "for row in range(5-1, 0, -1):\n",
    "    for column in range(1, row+1):\n",
    "        print('*', end=' ')\n",
    "    print()"
   ]
  },
  {
   "cell_type": "markdown",
   "metadata": {},
   "source": [
    "## 2. Write a Python program to reverse a word after accepting the input from the user. "
   ]
  },
  {
   "cell_type": "code",
   "execution_count": 9,
   "metadata": {},
   "outputs": [
    {
     "name": "stdout",
     "output_type": "stream",
     "text": [
      "Input word: aqua\n",
      "Output:  auqa\n"
     ]
    }
   ],
   "source": [
    "def reverse_word(wd):\n",
    "    '''Returns string in reverse order.\n",
    "    '''\n",
    "    return wd[::-1]\n",
    "\n",
    "inp = input('Input word: ')\n",
    "rev_inp = reverse_word(inp)\n",
    "print('Output: ', rev_inp)\n"
   ]
  },
  {
   "cell_type": "code",
   "execution_count": null,
   "metadata": {},
   "outputs": [],
   "source": []
  }
 ],
 "metadata": {
  "kernelspec": {
   "display_name": "Python 3",
   "language": "python",
   "name": "python3"
  },
  "language_info": {
   "codemirror_mode": {
    "name": "ipython",
    "version": 3
   },
   "file_extension": ".py",
   "mimetype": "text/x-python",
   "name": "python",
   "nbconvert_exporter": "python",
   "pygments_lexer": "ipython3",
   "version": "3.6.5"
  }
 },
 "nbformat": 4,
 "nbformat_minor": 2
}
